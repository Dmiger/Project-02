{
 "cells": [
  {
   "cell_type": "markdown",
   "metadata": {},
   "source": [
    "# PROJECT 2 - Houston Crime Data Exploration\n",
    "\n",
    "Why Houston? - Houston has been my home for the last few years and I am very passionate about the city. The city has a lot to offer but like any other big city it isn't above crime, and as such you should reserve your judgement simply based on the exploration presented in this notebook. \n",
    "Anecdote: I actually red building at the bottom left corner of the tall tower (William's Tower). \n",
    "\n",
    "Why crime? - It was the most interetsing set of data in the list. We weren't too passionate about mulicipality reports or zoning and decide to explore crime. \n",
    "\n",
    "Having lived in Houston, I can tell you the areas to avoid - 3rd and 4th ward (the usual - south side). But let's explore this data and see what we find."
   ]
  },
  {
   "cell_type": "code",
   "execution_count": 1,
   "metadata": {
    "collapsed": false
   },
   "outputs": [
    {
     "name": "stdout",
     "output_type": "stream",
     "text": [
      "--2016-11-10 20:58:37--  https://raw.githubusercontent.com/bosea3000/Project-02/master/Houston.jpg\n",
      "Resolving raw.githubusercontent.com (raw.githubusercontent.com)... 151.101.32.133\n",
      "Connecting to raw.githubusercontent.com (raw.githubusercontent.com)|151.101.32.133|:443... connected.\n",
      "HTTP request sent, awaiting response... 200 OK\n",
      "Length: 128483 (125K) [image/jpeg]\n",
      "Saving to: ‘Houston.jpg’\n",
      "\n",
      "Houston.jpg         100%[=====================>] 125.47K  --.-KB/s   in 0.005s \n",
      "\n",
      "2016-11-10 20:58:37 (26.7 MB/s) - ‘Houston.jpg’ saved [128483/128483]\n",
      "\n"
     ]
    }
   ],
   "source": [
    "!wget https://raw.githubusercontent.com/bosea3000/Project-02/master/Houston.jpg"
   ]
  },
  {
   "cell_type": "markdown",
   "metadata": {},
   "source": [
    "![](Houston.jpg)"
   ]
  },
  {
   "cell_type": "markdown",
   "metadata": {},
   "source": [
    "# Part-1 (Examine the data) "
   ]
  },
  {
   "cell_type": "markdown",
   "metadata": {},
   "source": [
    "The csv file used here has been modified from the original source data available at: http://www.houstontx.gov/police/cs/index-2.htm\n",
    "\n",
    "Modification Steps:\n",
    "1. Download all availble (.xls) files for 2016 from the website and save it as file1, file2, ...., etc.\n",
    "2. Open each individual file and save-as (.csv UTF-8)\n",
    "       --> Alternatively, you could use in2csv command in the csvtoolkit package.\n",
    "3. Combine the separate files into one - See code in the markdown below \n",
    "4. Once combined, we open the merged csv and filter out ALL the non-2016 values and DELETE. Don't forget to SAVE. \n",
    "       --> We are only interested in 2016 crime. The files somehow contained few data points from 1985,86..,etc.\n",
    "\n",
    "*Now we have final file ready for export using the wget command "
   ]
  },
  {
   "cell_type": "markdown",
   "metadata": {
    "collapsed": false
   },
   "source": [
    "- !csvcut file1.csv | head -1 > crimeData.csv (To get the header and put into a new file)\n",
    "- !tail -n +2 -q file*.csv >> crimeData.csv (To get every row EXCEPT the header and append to the new file)"
   ]
  },
  {
   "cell_type": "code",
   "execution_count": 2,
   "metadata": {
    "collapsed": false
   },
   "outputs": [
    {
     "name": "stdout",
     "output_type": "stream",
     "text": [
      "--2016-11-10 20:58:44--  https://raw.githubusercontent.com/bosea3000/Project-02/master/crimeData.csv\n",
      "Resolving raw.githubusercontent.com (raw.githubusercontent.com)... 151.101.32.133\n",
      "Connecting to raw.githubusercontent.com (raw.githubusercontent.com)|151.101.32.133|:443... connected.\n",
      "HTTP request sent, awaiting response... 200 OK\n",
      "Length: 6700493 (6.4M) [text/plain]\n",
      "Saving to: ‘crimeData.csv’\n",
      "\n",
      "crimeData.csv       100%[=====================>]   6.39M  --.-KB/s   in 0.09s  \n",
      "\n",
      "2016-11-10 20:58:44 (74.7 MB/s) - ‘crimeData.csv’ saved [6700493/6700493]\n",
      "\n"
     ]
    }
   ],
   "source": [
    "!wget https://raw.githubusercontent.com/bosea3000/Project-02/master/crimeData.csv"
   ]
  },
  {
   "cell_type": "markdown",
   "metadata": {},
   "source": [
    "### Basic exploration using csvkit"
   ]
  },
  {
   "cell_type": "code",
   "execution_count": 45,
   "metadata": {
    "collapsed": false
   },
   "outputs": [
    {
     "name": "stdout",
     "output_type": "stream",
     "text": [
      "86778 crimeData.csv\r\n"
     ]
    }
   ],
   "source": [
    "!wc -l crimeData.csv"
   ]
  },
  {
   "cell_type": "markdown",
   "metadata": {},
   "source": [
    "##### Let's look at the header line and see what we are dealing with"
   ]
  },
  {
   "cell_type": "code",
   "execution_count": 4,
   "metadata": {
    "collapsed": false
   },
   "outputs": [
    {
     "name": "stdout",
     "output_type": "stream",
     "text": [
      "|-------+------+--------------+------+---------+------------+------------+------+--------+------------------|\r\n",
      "|  Date | Hour | Offense_Type | Beat | Premise | BlockRange | StreetName | Type | Suffix | Number_Offenses  |\r\n",
      "|-------+------+--------------+------+---------+------------+------------+------+--------+------------------|\r\n"
     ]
    }
   ],
   "source": [
    "!csvcut crimeData.csv | head -1 | csvlook"
   ]
  },
  {
   "cell_type": "markdown",
   "metadata": {},
   "source": [
    "##### Essentially, the same function as the code above but more direct and tabular"
   ]
  },
  {
   "cell_type": "code",
   "execution_count": 5,
   "metadata": {
    "collapsed": false
   },
   "outputs": [
    {
     "name": "stdout",
     "output_type": "stream",
     "text": [
      "  1: Date\r\n",
      "  2: Hour\r\n",
      "  3: Offense_Type\r\n",
      "  4: Beat\r\n",
      "  5: Premise\r\n",
      "  6: BlockRange\r\n",
      "  7: StreetName\r\n",
      "  8: Type\r\n",
      "  9: Suffix\r\n",
      " 10: Number_Offenses\r\n"
     ]
    }
   ],
   "source": [
    "!csvcut -n crimeData.csv"
   ]
  },
  {
   "cell_type": "markdown",
   "metadata": {},
   "source": [
    "##### Let's see what are the TYPES of crimes reported in this data set"
   ]
  },
  {
   "cell_type": "code",
   "execution_count": 51,
   "metadata": {
    "collapsed": false
   },
   "outputs": [
    {
     "name": "stdout",
     "output_type": "stream",
     "text": [
      "1\r\n",
      "Aggravated Assault\r\n",
      "Auto Theft\r\n",
      "Burglary\r\n",
      "Murder\r\n",
      "Offense_Type\r\n",
      "Rape\r\n",
      "Robbery\r\n",
      "Theft\r\n"
     ]
    }
   ],
   "source": [
    "!csvcut -c3 crimeData.csv | sort | uniq "
   ]
  },
  {
   "cell_type": "markdown",
   "metadata": {},
   "source": [
    "##### We see 2 entries that are questionable: \n",
    "1. Offense_Type is the header  \n",
    "2. \"1\"is probably a typo"
   ]
  },
  {
   "cell_type": "markdown",
   "metadata": {},
   "source": [
    "##### This is to see which entry has only been recorded ONCE. "
   ]
  },
  {
   "cell_type": "code",
   "execution_count": 52,
   "metadata": {
    "collapsed": false
   },
   "outputs": [
    {
     "name": "stdout",
     "output_type": "stream",
     "text": [
      "Offense_Type\r\n"
     ]
    }
   ],
   "source": [
    "!csvcut -c3 crimeData.csv | sort | uniq -u"
   ]
  },
  {
   "cell_type": "markdown",
   "metadata": {},
   "source": [
    "And it's the header"
   ]
  },
  {
   "cell_type": "markdown",
   "metadata": {},
   "source": [
    "##### Let's now count each TYPE of crime in 2016. "
   ]
  },
  {
   "cell_type": "code",
   "execution_count": 53,
   "metadata": {
    "collapsed": false
   },
   "outputs": [
    {
     "name": "stdout",
     "output_type": "stream",
     "text": [
      "  13134 Burglary\r\n",
      "      1 Offense_Type\r\n",
      "      2 1\r\n",
      "    213 Murder\r\n",
      "  48663 Theft\r\n",
      "    692 Rape\r\n",
      "   7273 Robbery\r\n",
      "   7846 Aggravated Assault\r\n",
      "   8954 Auto Theft\r\n"
     ]
    }
   ],
   "source": [
    "!csvcut -c3 crimeData.csv | sort | uniq -c | sort"
   ]
  },
  {
   "cell_type": "markdown",
   "metadata": {},
   "source": [
    "##### That's a LOT of crime!! ~50,000 Thefts and ~13,000 Burglaries in just 9 months alone! "
   ]
  },
  {
   "cell_type": "markdown",
   "metadata": {},
   "source": [
    "##### You can also use the 'grep' command to do a specific search. Here we search for murder and count the total number"
   ]
  },
  {
   "cell_type": "code",
   "execution_count": 9,
   "metadata": {
    "collapsed": false
   },
   "outputs": [
    {
     "name": "stdout",
     "output_type": "stream",
     "text": [
      "213\r\n"
     ]
    }
   ],
   "source": [
    "!csvcut crimeData.csv | grep -o 'Murder'| wc -l "
   ]
  },
  {
   "cell_type": "markdown",
   "metadata": {},
   "source": [
    "##### The city of Houston has divided up the city into subdivision and each subdivision has a code associated with it, as shown below. "
   ]
  },
  {
   "cell_type": "code",
   "execution_count": 10,
   "metadata": {
    "collapsed": false
   },
   "outputs": [
    {
     "name": "stdout",
     "output_type": "stream",
     "text": [
      "10H10\r\n",
      "10H20\r\n",
      "10H30\r\n",
      "10H40\r\n",
      "10H50\r\n"
     ]
    }
   ],
   "source": [
    "!csvcut -c4 crimeData.csv | sort | uniq -d | sort | head -5"
   ]
  },
  {
   "cell_type": "markdown",
   "metadata": {},
   "source": [
    "##### Let's explore the subdivisions column and see the top-5 crime hot-spots"
   ]
  },
  {
   "cell_type": "code",
   "execution_count": 11,
   "metadata": {
    "collapsed": false
   },
   "outputs": [
    {
     "name": "stdout",
     "output_type": "stream",
     "text": [
      "  4. Beat\r\n",
      "\t<class 'str'>\r\n",
      "\tNulls: False\r\n",
      "\tUnique values: 118\r\n",
      "\t5 most frequent values:\r\n",
      "\t\t1A20:\t2078\r\n",
      "\t\t12D10:\t1844\r\n",
      "\t\t19G10:\t1741\r\n",
      "\t\t6B60:\t1629\r\n",
      "\t\t2A50:\t1621\r\n",
      "\tMax length: 8\r\n",
      "\r\n",
      "Row count: 86777\r\n"
     ]
    }
   ],
   "source": [
    "!csvstat -c4 crimeData.csv"
   ]
  },
  {
   "cell_type": "markdown",
   "metadata": {},
   "source": [
    "###### Let's also explore the distribution of the Number of Occurrances column"
   ]
  },
  {
   "cell_type": "code",
   "execution_count": 12,
   "metadata": {
    "collapsed": false
   },
   "outputs": [
    {
     "name": "stdout",
     "output_type": "stream",
     "text": [
      "  85262 1\r\n",
      "      1 10\r\n",
      "      1 12/13/2016\r\n",
      "      1 13/11/16\r\n",
      "      1 14/10/16\r\n",
      "      1 15/20/16\r\n",
      "      1 16/21/16\r\n",
      "      1 17/21/16\r\n",
      "      1 18/24/16\r\n",
      "      1 19/1/16\r\n",
      "   1276 2\r\n",
      "    163 3\r\n",
      "     46 4\r\n",
      "     14 5\r\n",
      "      5 6\r\n",
      "      1 7\r\n",
      "      1 8\r\n",
      "      1 Number_Offenses\r\n"
     ]
    }
   ],
   "source": [
    "!csvcut -c10 crimeData.csv | sort | uniq -c"
   ]
  },
  {
   "cell_type": "markdown",
   "metadata": {},
   "source": [
    "##### Looks like we have some inconsistent data to deal with"
   ]
  },
  {
   "cell_type": "markdown",
   "metadata": {},
   "source": [
    "### What about NULL values? \n",
    "We can explore more using csvstat"
   ]
  },
  {
   "cell_type": "markdown",
   "metadata": {},
   "source": [
    "##### Dimension - Time"
   ]
  },
  {
   "cell_type": "code",
   "execution_count": 13,
   "metadata": {
    "collapsed": false
   },
   "outputs": [
    {
     "name": "stdout",
     "output_type": "stream",
     "text": [
      "  1. Date\n",
      "\t<class 'datetime.date'>\n",
      "\tNulls: False\n",
      "\tMin: 2016-01-01\n",
      "\tMax: 2016-09-30\n",
      "\tUnique values: 274\n",
      "\t5 most frequent values:\n",
      "\t\t2016-05-18:\t395\n",
      "\t\t2016-09-15:\t392\n",
      "\t\t2016-06-21:\t386\n",
      "\t\t2016-09-02:\t385\n",
      "\t\t2016-04-15:\t384\n",
      "  2. Hour\n",
      "\t<class 'int'>\n",
      "\tNulls: False\n",
      "\tMin: 0\n",
      "\tMax: 23\n",
      "\tSum: 1120472\n",
      "\tMean: 12.91208499948143\n",
      "\tMedian: 13\n",
      "\tStandard Deviation: 5.918297313260744\n",
      "\tUnique values: 24\n",
      "\t5 most frequent values:\n",
      "\t\t15:\t5407\n",
      "\t\t16:\t5257\n",
      "\t\t14:\t5093\n",
      "\t\t13:\t4930\n",
      "\t\t11:\t4867\n",
      "\n",
      "Row count: 86777\n"
     ]
    }
   ],
   "source": [
    "!csvstat -c1,2 crimeData.csv"
   ]
  },
  {
   "cell_type": "markdown",
   "metadata": {},
   "source": [
    "##### Dimension - Offense"
   ]
  },
  {
   "cell_type": "code",
   "execution_count": 14,
   "metadata": {
    "collapsed": false
   },
   "outputs": [
    {
     "name": "stdout",
     "output_type": "stream",
     "text": [
      "  3. Offense_Type\r\n",
      "\t<class 'str'>\r\n",
      "\tNulls: False\r\n",
      "\tUnique values: 8\r\n",
      "\t5 most frequent values:\r\n",
      "\t\tTheft:\t48663\r\n",
      "\t\tBurglary:\t13134\r\n",
      "\t\tAuto Theft:\t8954\r\n",
      "\t\tAggravated Assault:\t7846\r\n",
      "\t\tRobbery:\t7273\r\n",
      "\tMax length: 18\r\n",
      "\r\n",
      "Row count: 86777\r\n"
     ]
    }
   ],
   "source": [
    "!csvstat -c3 crimeData.csv"
   ]
  },
  {
   "cell_type": "markdown",
   "metadata": {},
   "source": [
    "##### Dimension - Location"
   ]
  },
  {
   "cell_type": "code",
   "execution_count": 15,
   "metadata": {
    "collapsed": false
   },
   "outputs": [
    {
     "name": "stdout",
     "output_type": "stream",
     "text": [
      "  4. Beat\n",
      "\t<class 'str'>\n",
      "\tNulls: False\n",
      "\tUnique values: 118\n",
      "\t5 most frequent values:\n",
      "\t\t1A20:\t2078\n",
      "\t\t12D10:\t1844\n",
      "\t\t19G10:\t1741\n",
      "\t\t6B60:\t1629\n",
      "\t\t2A50:\t1621\n",
      "\tMax length: 8\n",
      "  5. Premise\n",
      "\t<class 'str'>\n",
      "\tNulls: True\n",
      "\tUnique values: 125\n",
      "\t5 most frequent values:\n",
      "\t\tResidence or House:\t11946\n",
      "\t\tApartment Parking Lot:\t9962\n",
      "\t\tRoad, Street, or Sidewalk:\t9084\n",
      "\t\tApartment:\t8319\n",
      "\t\tRestaurant or Cafeteria Parking Lot:\t3927\n",
      "\tMax length: 42\n",
      "  6. BlockRange\n",
      "\t<class 'str'>\n",
      "\tNulls: False\n",
      "\tUnique values: 233\n",
      "\t5 most frequent values:\n",
      "\t\t100-199:\t1193\n",
      "\t\t2300-2399:\t1178\n",
      "\t\t900-999:\t1101\n",
      "\t\t800-899:\t1066\n",
      "\t\t300-399:\t1055\n",
      "\tMax length: 13\n",
      "  7. StreetName\n",
      "\t<class 'str'>\n",
      "\tNulls: False\n",
      "\tUnique values: 6888\n",
      "\t5 most frequent values:\n",
      "\t\tWESTHEIMER:\t2660\n",
      "\t\tGULF:\t1321\n",
      "\t\tSAM HOUSTON:\t1309\n",
      "\t\tRICHMOND:\t1238\n",
      "\t\tKATY:\t1225\n",
      "\tMax length: 31\n",
      "  8. Type\n",
      "\t<class 'str'>\n",
      "\tNulls: False\n",
      "\tUnique values: 27\n",
      "\t5 most frequent values:\n",
      "\t\t-:\t19541\n",
      "\t\tDR:\t18333\n",
      "\t\tST:\t15181\n",
      "\t\tRD:\t13160\n",
      "\t\tFWY:\t6264\n",
      "\tMax length: 4\n",
      "  9. Suffix\n",
      "\t<class 'str'>\n",
      "\tNulls: False\n",
      "\tValues: N, E, S, W, -\n",
      "\n",
      "Row count: 86777\n"
     ]
    }
   ],
   "source": [
    "!csvstat -c4,5,6,7,8,9 crimeData.csv"
   ]
  },
  {
   "cell_type": "markdown",
   "metadata": {},
   "source": [
    "##### Dimension - Measure of Offenses"
   ]
  },
  {
   "cell_type": "code",
   "execution_count": 16,
   "metadata": {
    "collapsed": false
   },
   "outputs": [
    {
     "name": "stdout",
     "output_type": "stream",
     "text": [
      " 10. Number_Offenses\r\n",
      "\t<class 'str'>\r\n",
      "\tNulls: False\r\n",
      "\tUnique values: 17\r\n",
      "\t5 most frequent values:\r\n",
      "\t\t1:\t85262\r\n",
      "\t\t2:\t1276\r\n",
      "\t\t3:\t163\r\n",
      "\t\t4:\t46\r\n",
      "\t\t5:\t14\r\n",
      "\tMax length: 10\r\n",
      "\r\n",
      "Row count: 86777\r\n"
     ]
    }
   ],
   "source": [
    "!csvstat -c10 crimeData.csv"
   ]
  },
  {
   "cell_type": "markdown",
   "metadata": {},
   "source": [
    "### Questions?\n",
    "1. What type of crime is most frequent in 2016?\n",
    "2. What areas are affected the most?\n",
    "3. What is the trend of total crime each month in 2016?\n",
    "4. What time of day (in hour) do we see spikes in crime? \n",
    "5. What's the worst street to be on a holiday - (Let's say 4th of July)?"
   ]
  },
  {
   "cell_type": "markdown",
   "metadata": {},
   "source": [
    "# Part 2 - (Setting Database and SQL Queries)"
   ]
  },
  {
   "cell_type": "code",
   "execution_count": 17,
   "metadata": {
    "collapsed": false
   },
   "outputs": [
    {
     "name": "stderr",
     "output_type": "stream",
     "text": [
      "/opt/conda/lib/python3.5/site-packages/IPython/config.py:13: ShimWarning: The `IPython.config` package has been deprecated. You should import from traitlets.config instead.\n",
      "  \"You should import from traitlets.config instead.\", ShimWarning)\n",
      "/opt/conda/lib/python3.5/site-packages/IPython/utils/traitlets.py:5: UserWarning: IPython.utils.traitlets has moved to a top-level traitlets package.\n",
      "  warn(\"IPython.utils.traitlets has moved to a top-level traitlets package.\")\n"
     ]
    }
   ],
   "source": [
    "%load_ext sql"
   ]
  },
  {
   "cell_type": "code",
   "execution_count": 18,
   "metadata": {
    "collapsed": false
   },
   "outputs": [
    {
     "name": "stdout",
     "output_type": "stream",
     "text": [
      "[sudo] password for jovyan: Restarting PostgreSQL 9.5 database server: main.\n"
     ]
    }
   ],
   "source": [
    "!echo 'redspot' | sudo -S service postgresql restart"
   ]
  },
  {
   "cell_type": "code",
   "execution_count": 19,
   "metadata": {
    "collapsed": false
   },
   "outputs": [],
   "source": [
    "!createdb -U dbuser Project"
   ]
  },
  {
   "cell_type": "code",
   "execution_count": 20,
   "metadata": {
    "collapsed": false
   },
   "outputs": [
    {
     "data": {
      "text/plain": [
       "'Connected: dbuser@Project'"
      ]
     },
     "execution_count": 20,
     "metadata": {},
     "output_type": "execute_result"
    }
   ],
   "source": [
    "%sql postgresql://dbuser@localhost:5432/Project"
   ]
  },
  {
   "cell_type": "markdown",
   "metadata": {},
   "source": [
    "### Creating the Table - Crime"
   ]
  },
  {
   "cell_type": "code",
   "execution_count": 27,
   "metadata": {
    "collapsed": false
   },
   "outputs": [
    {
     "name": "stdout",
     "output_type": "stream",
     "text": [
      "Done.\n",
      "Done.\n"
     ]
    },
    {
     "data": {
      "text/plain": [
       "[]"
      ]
     },
     "execution_count": 27,
     "metadata": {},
     "output_type": "execute_result"
    }
   ],
   "source": [
    "%%sql\n",
    "DROP TABLE IF EXISTS Crime;\n",
    "CREATE TABLE Crime (\n",
    "    Date TIMESTAMP(0),\n",
    "    Hour CHAR(4),\n",
    "    Offense_Type VARCHAR(42),\n",
    "    Beat VARCHAR(20),\n",
    "    Premise VARCHAR(64),\n",
    "    BlockRange VARCHAR(20),\n",
    "    StreetName VARCHAR(64),\n",
    "    Type VARCHAR(16),\n",
    "    Suffix VARCHAR(12),\n",
    "    Number_offenses VARCHAR(16)\n",
    "    \n",
    ");"
   ]
  },
  {
   "cell_type": "markdown",
   "metadata": {},
   "source": [
    "##### Loading our final (.csv) file into the database"
   ]
  },
  {
   "cell_type": "code",
   "execution_count": 30,
   "metadata": {
    "collapsed": false
   },
   "outputs": [
    {
     "name": "stdout",
     "output_type": "stream",
     "text": [
      "86777 rows affected.\n"
     ]
    },
    {
     "data": {
      "text/plain": [
       "[]"
      ]
     },
     "execution_count": 30,
     "metadata": {},
     "output_type": "execute_result"
    }
   ],
   "source": [
    "%%sql\n",
    "COPY Crime \n",
    "FROM '/home/jovyan/work/crimeData.csv'\n",
    "CSV\n",
    "HEADER\n",
    "QUOTE '\"'\n",
    "DELIMITER ',';"
   ]
  },
  {
   "cell_type": "markdown",
   "metadata": {},
   "source": [
    "##### Sanity check?!"
   ]
  },
  {
   "cell_type": "code",
   "execution_count": 32,
   "metadata": {
    "collapsed": false
   },
   "outputs": [
    {
     "name": "stdout",
     "output_type": "stream",
     "text": [
      "1 rows affected.\n"
     ]
    },
    {
     "data": {
      "text/html": [
       "<table>\n",
       "    <tr>\n",
       "        <th>count</th>\n",
       "    </tr>\n",
       "    <tr>\n",
       "        <td>86777</td>\n",
       "    </tr>\n",
       "</table>"
      ],
      "text/plain": [
       "[(86777,)]"
      ]
     },
     "execution_count": 32,
     "metadata": {},
     "output_type": "execute_result"
    }
   ],
   "source": [
    "%%sql \n",
    "SELECT COUNT(*) \n",
    "FROM Crime;"
   ]
  },
  {
   "cell_type": "markdown",
   "metadata": {},
   "source": [
    "##### Phew! We passed!"
   ]
  },
  {
   "cell_type": "markdown",
   "metadata": {
    "collapsed": true
   },
   "source": [
    "### Time for some Queries"
   ]
  },
  {
   "cell_type": "markdown",
   "metadata": {},
   "source": [
    "##### Question 1\n",
    "##### Notice the Query below. We asked the same question in part 1 using the csvtoolkit but having a visual aid really transforms the perception of the data in question. The most common cirme is - Theft. "
   ]
  },
  {
   "cell_type": "code",
   "execution_count": 55,
   "metadata": {
    "collapsed": false
   },
   "outputs": [
    {
     "name": "stdout",
     "output_type": "stream",
     "text": [
      "8 rows affected.\n"
     ]
    },
    {
     "data": {
      "text/html": [
       "<table>\n",
       "    <tr>\n",
       "        <th>offense_type</th>\n",
       "        <th>count</th>\n",
       "    </tr>\n",
       "    <tr>\n",
       "        <td>1</td>\n",
       "        <td>2</td>\n",
       "    </tr>\n",
       "    <tr>\n",
       "        <td>Murder</td>\n",
       "        <td>213</td>\n",
       "    </tr>\n",
       "    <tr>\n",
       "        <td>Rape</td>\n",
       "        <td>692</td>\n",
       "    </tr>\n",
       "    <tr>\n",
       "        <td>Robbery</td>\n",
       "        <td>7273</td>\n",
       "    </tr>\n",
       "    <tr>\n",
       "        <td>Aggravated Assault</td>\n",
       "        <td>7846</td>\n",
       "    </tr>\n",
       "    <tr>\n",
       "        <td>Auto Theft</td>\n",
       "        <td>8954</td>\n",
       "    </tr>\n",
       "    <tr>\n",
       "        <td>Burglary</td>\n",
       "        <td>13134</td>\n",
       "    </tr>\n",
       "    <tr>\n",
       "        <td>Theft</td>\n",
       "        <td>48663</td>\n",
       "    </tr>\n",
       "</table>"
      ],
      "text/plain": [
       "[('1', 2),\n",
       " ('Murder', 213),\n",
       " ('Rape', 692),\n",
       " ('Robbery', 7273),\n",
       " ('Aggravated Assault', 7846),\n",
       " ('Auto Theft', 8954),\n",
       " ('Burglary', 13134),\n",
       " ('Theft', 48663)]"
      ]
     },
     "execution_count": 55,
     "metadata": {},
     "output_type": "execute_result"
    }
   ],
   "source": [
    "%%sql\n",
    "SELECT DISTINCT OFFENSE_TYPE, COUNT(*)\n",
    "FROM Crime\n",
    "GROUP BY OFFENSE_TYPE\n",
    "ORDER BY COUNT(*)"
   ]
  },
  {
   "cell_type": "code",
   "execution_count": 56,
   "metadata": {
    "collapsed": false
   },
   "outputs": [
    {
     "data": {
      "text/plain": [
       "<Container object of 8 artists>"
      ]
     },
     "execution_count": 56,
     "metadata": {},
     "output_type": "execute_result"
    },
    {
     "data": {
      "image/png": "[encoded data removed]",
      "text/plain": [
       "<matplotlib.figure.Figure at 0x7f1252b8f2e8>"
      ]
     },
     "metadata": {},
     "output_type": "display_data"
    }
   ],
   "source": [
    "import matplotlib\n",
    "%matplotlib inline \n",
    "\n",
    "q1_results = _\n",
    "q1_results.bar()"
   ]
  },
  {
   "cell_type": "markdown",
   "metadata": {},
   "source": [
    "##### I added the csv command below for a quick comparison "
   ]
  },
  {
   "cell_type": "code",
   "execution_count": 57,
   "metadata": {
    "collapsed": false
   },
   "outputs": [
    {
     "name": "stdout",
     "output_type": "stream",
     "text": [
      "  13134 Burglary\r\n",
      "      1 Offense_Type\r\n",
      "      2 1\r\n",
      "    213 Murder\r\n",
      "  48663 Theft\r\n",
      "    692 Rape\r\n",
      "   7273 Robbery\r\n",
      "   7846 Aggravated Assault\r\n",
      "   8954 Auto Theft\r\n"
     ]
    }
   ],
   "source": [
    "!csvcut -c3 crimeData.csv | sort | uniq -c | sort"
   ]
  },
  {
   "cell_type": "code",
   "execution_count": null,
   "metadata": {
    "collapsed": true
   },
   "outputs": [],
   "source": []
  }
 ],
 "metadata": {
  "anaconda-cloud": {},
  "kernelspec": {
   "display_name": "Python 3",
   "language": "python",
   "name": "python3"
  },
  "language_info": {
   "codemirror_mode": {
    "name": "ipython",
    "version": 3
   },
   "file_extension": ".py",
   "mimetype": "text/x-python",
   "name": "python",
   "nbconvert_exporter": "python",
   "pygments_lexer": "ipython3",
   "version": "3.5.2"
  }
 },
 "nbformat": 4,
 "nbformat_minor": 0
}
